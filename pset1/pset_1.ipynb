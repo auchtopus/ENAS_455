{
 "cells": [
  {
   "cell_type": "code",
   "execution_count": 3,
   "metadata": {},
   "outputs": [],
   "source": [
    "import numpy as np\n",
    "import pandas as pd\n",
    "from collections import deque"
   ]
  },
  {
   "attachments": {},
   "cell_type": "markdown",
   "metadata": {},
   "source": [
    "# Problem 1. \n",
    "## A. \n",
    "The packet will require $T + L/R + l/c$ time to finish transmitting\n",
    "## B.\n",
    "Each packet requires $4\\text{kb} / 1000\\text{kb} = 4\\text{ms}$ of processing time at $A$. \n",
    "propagation delay is fixed $10 \\text{ms}$. Thus, the packets can be modelled as follows:\n",
    "| Packet | arrival time | send complete time | receipt time | \n",
    "| - | - | - | - |\n",
    "| 1 | 0 ms | 4 ms  | 14ms | \n",
    "| 2 | 1 ms | 8 ms | 18 ms | \n",
    "| 3 | 1.5 ms | 12 ms | 22 ms |\n",
    "## C.\n"
   ]
  },
  {
   "cell_type": "code",
   "execution_count": 23,
   "metadata": {},
   "outputs": [
    {
     "data": {
      "text/html": [
       "<div>\n",
       "<style scoped>\n",
       "    .dataframe tbody tr th:only-of-type {\n",
       "        vertical-align: middle;\n",
       "    }\n",
       "\n",
       "    .dataframe tbody tr th {\n",
       "        vertical-align: top;\n",
       "    }\n",
       "\n",
       "    .dataframe thead th {\n",
       "        text-align: right;\n",
       "    }\n",
       "</style>\n",
       "<table border=\"1\" class=\"dataframe\">\n",
       "  <thead>\n",
       "    <tr style=\"text-align: right;\">\n",
       "      <th></th>\n",
       "      <th>Avg. InterArrival Time</th>\n",
       "      <th>Avg. Packet Length</th>\n",
       "      <th>Avg. Transport Time</th>\n",
       "    </tr>\n",
       "  </thead>\n",
       "  <tbody>\n",
       "    <tr>\n",
       "      <th>lambda: 1, mu: 0.8</th>\n",
       "      <td>1.006014</td>\n",
       "      <td>1.238507</td>\n",
       "      <td>1253.221346</td>\n",
       "    </tr>\n",
       "    <tr>\n",
       "      <th>lambda: 1, mu: 1</th>\n",
       "      <td>0.998661</td>\n",
       "      <td>0.976398</td>\n",
       "      <td>35.339267</td>\n",
       "    </tr>\n",
       "    <tr>\n",
       "      <th>lambda: 1, mu: 1.2</th>\n",
       "      <td>1.012268</td>\n",
       "      <td>0.825468</td>\n",
       "      <td>4.225015</td>\n",
       "    </tr>\n",
       "  </tbody>\n",
       "</table>\n",
       "</div>"
      ],
      "text/plain": [
       "                    Avg. InterArrival Time  Avg. Packet Length  \\\n",
       "lambda: 1, mu: 0.8                1.006014            1.238507   \n",
       "lambda: 1, mu: 1                  0.998661            0.976398   \n",
       "lambda: 1, mu: 1.2                1.012268            0.825468   \n",
       "\n",
       "                    Avg. Transport Time  \n",
       "lambda: 1, mu: 0.8          1253.221346  \n",
       "lambda: 1, mu: 1              35.339267  \n",
       "lambda: 1, mu: 1.2             4.225015  "
      ]
     },
     "metadata": {},
     "output_type": "display_data"
    }
   ],
   "source": [
    "res_df = pd.DataFrame(columns= [\"Avg. InterArrival Time\", \"Avg. Packet Length\", \"Avg. Transport Time\"])\n",
    "\n",
    "def simulate(lambd, mu, res_df = res_df, num_packets = 10000):\n",
    "    arrival_t = np.random.exponential(1/lambd, [num_packets])\n",
    "    avg_arrival_interval = np.mean(arrival_t)\n",
    "    length_t = np.random.exponential(1/mu, [num_packets])\n",
    "    avg_packet_length = np.mean(length_t)\n",
    "    service_t = np.zeros(num_packets)\n",
    "    q = deque()\n",
    "    # q.append((length_t[0], 0)) # length, entrance time\n",
    "    next_service = 0\n",
    "    finished_service = 0\n",
    "    cur_time = 0\n",
    "    # print(arrival_t, length_t)\n",
    "    while q or finished_service < num_packets:\n",
    "        # print(q, next_service, finished_service, cur_time)\n",
    "        if (q and next_service == num_packets) or (q and q[0][0] < arrival_t[next_service]):\n",
    "            if next_service < num_packets:\n",
    "                arrival_t[next_service] -= q[0][0]\n",
    "            cur_time += q[0][0]\n",
    "            service_t[finished_service] = cur_time - q[0][1]\n",
    "            finished_service += 1\n",
    "            q.popleft()\n",
    "        elif (q and q[0][0] == arrival_t[next_service]):\n",
    "            next_service += 1\n",
    "            cur_time += q[0][0]\n",
    "            service_t[finished_service] = cur_time - q[0][1]\n",
    "            finished_service += 1\n",
    "            q.popleft()\n",
    "            q.append(length_t[next_service])\n",
    "        elif (not q) or (q and q[0][0] > arrival_t[next_service]):\n",
    "            if q:\n",
    "                q[0][0] -= arrival_t[next_service]\n",
    "            cur_time += arrival_t[next_service]\n",
    "            q.append([length_t[next_service], cur_time])\n",
    "            next_service += 1\n",
    "    res_df.loc[f\"lambda: {lambd}, mu: {mu}\"] = [avg_arrival_interval, avg_packet_length, np.mean(service_t)]\n",
    "simulate(1, 0.8, res_df)\n",
    "simulate(1, 1, res_df)\n",
    "simulate(1, 1.2, res_df)\n",
    "display(res_df)\n",
    "    "
   ]
  },
  {
   "attachments": {},
   "cell_type": "markdown",
   "metadata": {},
   "source": [
    "# Problem 2.\n",
    "(Diagrams below)\n",
    "\n",
    "## A.\n",
    "The state space is $\\{0,1\\}$. All are communicating and recurrent because $E[A(t)] < M$\n",
    "## B.\n",
    "The State space is non-negative integers, and has $|R| = \\infty$. However, it is recurrent because $E[A(t)] < M$\n",
    "## C. \n",
    "The State space is non-negative integers, and has $|R| = \\infty$. However, it is recurrent because $E[A(t)] < M$\n",
    "## D. \n",
    "The State space is non-negative integers, and has $|R| = \\infty$. However, it is recurrent because $E[A(t)] < M$\n",
    "## E. \n",
    "The State space is non-negative integers, and has $|R| = \\infty$. However, it is transient because $E[A(t)] > M$  \n"
   ]
  },
  {
   "attachments": {},
   "cell_type": "markdown",
   "metadata": {},
   "source": [
    "# Problem 3.\n",
    "As from class, to evaluate the stability of the system, we apply the Foster-Lyapunov theorem with $V(x) = x$. With this, we have:\n",
    "\n",
    "$$\\begin{aligned}\n",
    "E[V(t+1) - V(t) | X(t) = x_0] &= E[(X(t+1) - M(t+1))^+ + A(t+1) - X(t) | X(t) = x_0] \\\\ \n",
    "&= E[(X(t+1) - M(t+1))^+ + A(t+1) | X(t) = x_0] - x_0 \\\\\n",
    "&= x_0 - E[M(X)] + E[A(t)] - x_0 \\quad x_0 > 0\n",
    "&= E[A(t)] - E[M(X)]\n",
    "\\end{aligned}$$\n",
    "\n",
    "We know that $E[M(x)] = \\frac{K}{2}$. It remains to evaluate $A(t)$, which we are told is conditional on a binary markov chain itself.\n",
    "\n",
    "$$\\begin{aligned}\n",
    "\n",
    "E[A(t)] &= E[A_1(t)(1-S(t)) + A_2(t)S(t)]  \\\\\n",
    "&= E[p_1(1-S(t)) + p_2S(t)]\n",
    "\\end{aligned}$$\n",
    "from the given definitions of i.i.d $A_1(t)$ and $A_2(t)$. Thus, it suffices to evaluate the EV of $S(t)$. We aren't given the values of this binary chain, so assume that the first state has value $k$ and the second one $j$. Given that it is binary, we know that it is stable, and it suffices to evaluate the EV of the chain. \n",
    "\n",
    "The transition matrix of this chain is $\\begin{bmatrix} 1-p & p \\\\ q & 1-q \\end{bmatrix}$, which we want to find what it converges to.\n",
    "\n",
    "$$\\begin{aligned} \\pi_0(1-p) + \\pi_1(q) = \\pi_0 \\\\\n",
    "                \\pi_0(p) + \\pi_1(1-q) = \\pi_1 \n",
    "\\end{aligned}$$\n",
    " for $\\pi(0) + \\pi(1) = 0$ results in $\\pi = \\begin{bmatrix} \\frac{q}{p+q} \\\\ \\frac{p}{p+q} \\end{bmatrix}$. This implies that the $EV$ of this system is $\\frac{jq + kp}{p+q}$, so $E[A(t)] = \\frac{(jq + kp)(1-p_1 + p_2)}{p+q}$. This needs to be less than $\\frac{K}{2}$, which is a necessary and sufficient condition for stability. \n",
    " \n"
   ]
  },
  {
   "cell_type": "code",
   "execution_count": null,
   "metadata": {},
   "outputs": [],
   "source": []
  },
  {
   "cell_type": "markdown",
   "metadata": {},
   "source": []
  }
 ],
 "metadata": {
  "kernelspec": {
   "display_name": "Python 3",
   "language": "python",
   "name": "python3"
  },
  "language_info": {
   "codemirror_mode": {
    "name": "ipython",
    "version": 3
   },
   "file_extension": ".py",
   "mimetype": "text/x-python",
   "name": "python",
   "nbconvert_exporter": "python",
   "pygments_lexer": "ipython3",
   "version": "3.9.6"
  },
  "orig_nbformat": 4,
  "vscode": {
   "interpreter": {
    "hash": "9bf23b3494310e247d569e5af2b15d114e49b0f114fbf233a261940f96152603"
   }
  }
 },
 "nbformat": 4,
 "nbformat_minor": 2
}
